{
 "cells": [
  {
   "cell_type": "code",
   "execution_count": 2,
   "metadata": {},
   "outputs": [
    {
     "name": "stdout",
     "output_type": "stream",
     "text": [
      "Requirement already satisfied: scipy in c:\\users\\mcmsh\\appdata\\local\\programs\\python\\python311\\lib\\site-packages (1.12.0)\n",
      "Requirement already satisfied: pandas in c:\\users\\mcmsh\\appdata\\local\\programs\\python\\python311\\lib\\site-packages (2.2.2)\n",
      "Requirement already satisfied: numpy in c:\\users\\mcmsh\\appdata\\local\\programs\\python\\python311\\lib\\site-packages (1.26.2)\n",
      "Requirement already satisfied: matplotlib in c:\\users\\mcmsh\\appdata\\local\\programs\\python\\python311\\lib\\site-packages (3.8.2)\n",
      "Requirement already satisfied: scikit-learn in c:\\users\\mcmsh\\appdata\\local\\programs\\python\\python311\\lib\\site-packages (1.5.1)\n",
      "Requirement already satisfied: fsspec in c:\\users\\mcmsh\\appdata\\local\\programs\\python\\python311\\lib\\site-packages (2024.9.0)\n",
      "Requirement already satisfied: huggingface_hub in c:\\users\\mcmsh\\appdata\\local\\programs\\python\\python311\\lib\\site-packages (0.24.7)\n",
      "Requirement already satisfied: python-dateutil>=2.8.2 in c:\\users\\mcmsh\\appdata\\roaming\\python\\python311\\site-packages (from pandas) (2.8.2)\n",
      "Requirement already satisfied: pytz>=2020.1 in c:\\users\\mcmsh\\appdata\\local\\programs\\python\\python311\\lib\\site-packages (from pandas) (2023.3.post1)\n",
      "Requirement already satisfied: tzdata>=2022.7 in c:\\users\\mcmsh\\appdata\\local\\programs\\python\\python311\\lib\\site-packages (from pandas) (2024.1)\n",
      "Requirement already satisfied: contourpy>=1.0.1 in c:\\users\\mcmsh\\appdata\\local\\programs\\python\\python311\\lib\\site-packages (from matplotlib) (1.2.0)\n",
      "Requirement already satisfied: cycler>=0.10 in c:\\users\\mcmsh\\appdata\\local\\programs\\python\\python311\\lib\\site-packages (from matplotlib) (0.12.1)\n",
      "Requirement already satisfied: fonttools>=4.22.0 in c:\\users\\mcmsh\\appdata\\local\\programs\\python\\python311\\lib\\site-packages (from matplotlib) (4.46.0)\n",
      "Requirement already satisfied: kiwisolver>=1.3.1 in c:\\users\\mcmsh\\appdata\\local\\programs\\python\\python311\\lib\\site-packages (from matplotlib) (1.4.5)\n",
      "Requirement already satisfied: packaging>=20.0 in c:\\users\\mcmsh\\appdata\\local\\programs\\python\\python311\\lib\\site-packages (from matplotlib) (23.1)\n",
      "Requirement already satisfied: pillow>=8 in c:\\users\\mcmsh\\appdata\\local\\programs\\python\\python311\\lib\\site-packages (from matplotlib) (10.1.0)\n",
      "Requirement already satisfied: pyparsing>=2.3.1 in c:\\users\\mcmsh\\appdata\\local\\programs\\python\\python311\\lib\\site-packages (from matplotlib) (3.1.1)\n",
      "Requirement already satisfied: joblib>=1.2.0 in c:\\users\\mcmsh\\appdata\\local\\programs\\python\\python311\\lib\\site-packages (from scikit-learn) (1.4.2)\n",
      "Requirement already satisfied: threadpoolctl>=3.1.0 in c:\\users\\mcmsh\\appdata\\local\\programs\\python\\python311\\lib\\site-packages (from scikit-learn) (3.5.0)\n",
      "Requirement already satisfied: filelock in c:\\users\\mcmsh\\appdata\\local\\programs\\python\\python311\\lib\\site-packages (from huggingface_hub) (3.16.0)\n",
      "Requirement already satisfied: pyyaml>=5.1 in c:\\users\\mcmsh\\appdata\\local\\programs\\python\\python311\\lib\\site-packages (from huggingface_hub) (6.0.2)\n",
      "Requirement already satisfied: requests in c:\\users\\mcmsh\\appdata\\local\\programs\\python\\python311\\lib\\site-packages (from huggingface_hub) (2.31.0)\n",
      "Requirement already satisfied: tqdm>=4.42.1 in c:\\users\\mcmsh\\appdata\\local\\programs\\python\\python311\\lib\\site-packages (from huggingface_hub) (4.66.5)\n",
      "Requirement already satisfied: typing-extensions>=3.7.4.3 in c:\\users\\mcmsh\\appdata\\local\\programs\\python\\python311\\lib\\site-packages (from huggingface_hub) (4.12.2)\n",
      "Requirement already satisfied: six>=1.5 in c:\\users\\mcmsh\\appdata\\roaming\\python\\python311\\site-packages (from python-dateutil>=2.8.2->pandas) (1.16.0)\n",
      "Requirement already satisfied: colorama in c:\\users\\mcmsh\\appdata\\local\\programs\\python\\python311\\lib\\site-packages (from tqdm>=4.42.1->huggingface_hub) (0.4.6)\n",
      "Requirement already satisfied: charset-normalizer<4,>=2 in c:\\users\\mcmsh\\appdata\\local\\programs\\python\\python311\\lib\\site-packages (from requests->huggingface_hub) (3.3.2)\n",
      "Requirement already satisfied: idna<4,>=2.5 in c:\\users\\mcmsh\\appdata\\local\\programs\\python\\python311\\lib\\site-packages (from requests->huggingface_hub) (3.4)\n",
      "Requirement already satisfied: urllib3<3,>=1.21.1 in c:\\users\\mcmsh\\appdata\\local\\programs\\python\\python311\\lib\\site-packages (from requests->huggingface_hub) (2.1.0)\n",
      "Requirement already satisfied: certifi>=2017.4.17 in c:\\users\\mcmsh\\appdata\\local\\programs\\python\\python311\\lib\\site-packages (from requests->huggingface_hub) (2023.11.17)\n"
     ]
    },
    {
     "name": "stderr",
     "output_type": "stream",
     "text": [
      "\n",
      "[notice] A new release of pip is available: 23.1.2 -> 24.2\n",
      "[notice] To update, run: python.exe -m pip install --upgrade pip\n"
     ]
    }
   ],
   "source": [
    "!pip install scipy pandas numpy matplotlib scikit-learn fsspec huggingface_hub"
   ]
  },
  {
   "cell_type": "code",
   "execution_count": null,
   "metadata": {},
   "outputs": [
    {
     "name": "stderr",
     "output_type": "stream",
     "text": [
      "c:\\Users\\mcmsh\\AppData\\Local\\Programs\\Python\\Python311\\Lib\\site-packages\\tqdm\\auto.py:21: TqdmWarning: IProgress not found. Please update jupyter and ipywidgets. See https://ipywidgets.readthedocs.io/en/stable/user_install.html\n",
      "  from .autonotebook import tqdm as notebook_tqdm\n"
     ]
    }
   ],
   "source": [
    "import pandas as pd\n",
    "import numpy as np\n",
    "import matplotlib.pyplot as plt\n",
    "import scipy.stats as stats\n",
    "import sklearn.linear_model as lm\n",
    "\n",
    "# Load the data\n",
    "df = pd.read_csv(\"hf://datasets/hugginglearners/data-science-job-salaries/ds_salaries.csv\")"
   ]
  },
  {
   "cell_type": "code",
   "execution_count": null,
   "metadata": {},
   "outputs": [],
   "source": [
    "# 3 Impact of Company Size on Salary\n",
    "\n",
    "sizes = ['S', 'M', 'L']\n",
    "salary_data = [df[df['company_size'] == size]['salary_in_usd'] for size in sizes]\n",
    "\n",
    "fig, ax = plt.subplots(figsize=(8, 4))\n",
    "\n",
    "bp = ax.boxplot(salary_data, labels=sizes, patch_artist=True)\n",
    "\n",
    "colors = ['lightblue', 'lightgreen', 'lightpink']\n",
    "for patch, color in zip(bp['boxes'], colors):\n",
    "    patch.set_facecolor(color)\n",
    "\n",
    "ax.set_title('Salary by Company Size', fontsize=16)\n",
    "ax.set_xlabel('Company Size', fontsize=12)\n",
    "ax.set_ylabel('Salary (USD)', fontsize=12)\n",
    "\n",
    "ax.yaxis.grid(True, linestyle='--', color='grey')\n",
    "\n",
    "plt.show()"
   ]
  },
  {
   "cell_type": "code",
   "execution_count": null,
   "metadata": {},
   "outputs": [],
   "source": [
    "# 5 Interactions Between Relationships\n",
    "df_5 = df\n",
    "df_5['salary_in_usd'] = pd.to_numeric(df_5['salary_in_usd'], errors='coerce')\n",
    "df_5 = df_5.dropna(subset=['job_title', 'company_size', 'salary_in_usd'])\n",
    "\n",
    "pivot_table = pd.pivot_table(df_5, \n",
    "                             values='salary_in_usd', \n",
    "                             index='job_title', \n",
    "                             columns='company_size', \n",
    "                             aggfunc='mean')\n",
    "\n",
    "pivot_table = pivot_table.round(-3)\n",
    "pivot_table['mean'] = pivot_table.mean(axis=1)\n",
    "pivot_table = pivot_table.sort_values('mean', ascending=False)\n",
    "pivot_table = pivot_table.drop('mean', axis=1)\n",
    "print(pivot_table.head(23).to_string())\n",
    "\n",
    "summary_stats = df.groupby('company_size')['salary_in_usd'].agg(['mean', 'median', 'std', 'count'])\n",
    "summary_stats = summary_stats.round(0)\n",
    "\n",
    "print(\"\\nSummary Statistics by Company Size:\")\n",
    "print(summary_stats.to_string())\n",
    "\n",
    "exp_summary = df.groupby(['experience_level', 'company_size'])['salary_in_usd'].mean().unstack()\n",
    "exp_summary = exp_summary.round(-3)\n",
    "\n",
    "print(\"\\nMean Salary by Experience Level and Company Size:\")\n",
    "print(exp_summary.to_string())"
   ]
  }
 ],
 "metadata": {
  "kernelspec": {
   "display_name": "stat-220",
   "language": "python",
   "name": "python3"
  },
  "language_info": {
   "codemirror_mode": {
    "name": "ipython",
    "version": 3
   },
   "file_extension": ".py",
   "mimetype": "text/x-python",
   "name": "python",
   "nbconvert_exporter": "python",
   "pygments_lexer": "ipython3",
   "version": "3.11.4"
  }
 },
 "nbformat": 4,
 "nbformat_minor": 2
}
